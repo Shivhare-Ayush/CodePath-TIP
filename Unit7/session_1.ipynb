{
 "cells": [
  {
   "cell_type": "markdown",
   "id": "abc8606f",
   "metadata": {},
   "source": [
    "Problem 3: Shuffle Playlist\n",
    "You are given the head of a singly linked list playlist. The list can be represented as:\n",
    "\n",
    "L0 → L1 → … → Ln - 1 → Ln\n",
    "\n",
    "Shuffle the playlist to have the following form:\n",
    "\n",
    "L0 → Ln → L1 → Ln - 1 → L2 → Ln - 2 → …\n",
    "\n",
    "You may not modify the values in the list's nodes. Only the order of the nodes themselves may be changed. Return the head of the shuffled list.\n",
    "\n",
    "Evaluate the time and space complexity of your solution. Define your variables and provide a rationale for why you believe your solution has the stated time and space complexity.\n",
    "\n"
   ]
  },
  {
   "cell_type": "markdown",
   "id": "205aa429",
   "metadata": {
    "vscode": {
     "languageId": "plaintext"
    }
   },
   "source": [
    "playlist1 = Node(1, Node(2, Node(3, Node(4))))\n",
    "\n",
    "1 -> 2 -> 3 <- 4\n",
    "1 -> 2 -> 3 -> 4 -> 5 -> 6 -> 7 -> 8\n",
    "\n",
    "1 -> 2 -> 3 -> 4 <- 5 <- 6 <- 7 <- 8\n",
    "head_node.next\n",
    "tail_node.next \n",
    "\n",
    "1 -> 8 -> 2 -> 3 -> 4 <- 5 <- 6 <- 7 \n",
    "1 -> 8 -> 2 -> 7 -> 3 -> 4 <- 5 <- 6\n",
    "1 -> 8 -> 2 -> 7 -> 3 -> 6 -> 4 <- 5\n",
    "\n",
    "1 -> 8 -> 2 -> 7 -> 3 -> 6 -> 4 -> 5\n",
    "                                <-\n",
    "\n",
    "head points to tail, and increment both \n",
    "\n",
    "1 -> 4 \n",
    "new head is 2 and new tail is 3\n",
    "\n",
    "playlist2 = Node(('Respect', 'Aretha Franklin'),\n",
    "                Node(('Superstition', 'Stevie Wonder'),\n",
    "                    Node(('Wonderwall', 'Oasis'),\n",
    "                        Node(('Like a Prayer', 'Madonna'),\n",
    "                            Node(('Bohemian Rhapsody', 'Queen'))))))\n",
    "\n",
    "\n",
    "\n",
    "1 -> 4 -> 2 -> 3\n",
    "('Respect', 'Aretha Franklin') -> ('Bohemian Rhapsody', 'Queen') -> ('Superstition', 'Stevie Wonder') -> ('Like a Prayer', 'Madonna') -> ('Wonderwall', 'Oasis')"
   ]
  },
  {
   "cell_type": "code",
   "execution_count": 7,
   "id": "085b5f35",
   "metadata": {},
   "outputs": [
    {
     "name": "stdout",
     "output_type": "stream",
     "text": [
      "1 -> 8 -> 2 -> 7 -> 3 -> 6 -> 4 -> 5\n"
     ]
    }
   ],
   "source": [
    "# find middle using fast slow\n",
    "# reverse (slow, n)\n",
    "# merge head, tail in alternation \n",
    "class Node:\n",
    "\tdef __init__(self, value, next=None):\n",
    "\t\tself.value = value\n",
    "\t\tself.next = next\n",
    "\n",
    "# For testing\n",
    "def print_linked_list(head):\n",
    "    current = head\n",
    "    while current:\n",
    "        print(current.value, end=\" -> \" if current.next else \"\")\n",
    "        current = current.next\n",
    "    print()\n",
    "\n",
    "def shuffler(head):\n",
    "    slow = fast = head\n",
    "\n",
    "    while fast and fast.next:\n",
    "        slow = slow.next\n",
    "        fast = fast.next.next\n",
    "    # Reverse\n",
    "    prev = None\n",
    "    curr = slow\n",
    "    while curr:\n",
    "        temp = curr.next\n",
    "        curr.next = prev\n",
    "        prev = curr\n",
    "        curr = temp\n",
    "    # merge\n",
    "    '''\n",
    "    head_node.next\n",
    "    tail_node.next \n",
    "\n",
    "    1 -> 8 -> 2 \n",
    "    '''\n",
    "    tail_node = prev\n",
    "    head_node = head\n",
    "    \n",
    "    while tail_node.next:\n",
    "        curr_tail_node = tail_node.next\n",
    "        curr_head_node = head_node.next\n",
    "        head_node.next = tail_node\n",
    "        tail_node.next = curr_head_node\n",
    "        head_node = curr_head_node\n",
    "        tail_node = curr_tail_node\n",
    "    return head    \n",
    "\n",
    "\n",
    "playlist1 = Node(1, Node(2, Node(3, Node(4, Node(5, Node(6, Node(7, Node(8))))))))\n",
    "\n",
    "print_linked_list(shuffler(playlist1))"
   ]
  }
 ],
 "metadata": {
  "kernelspec": {
   "display_name": "Python 3",
   "language": "python",
   "name": "python3"
  },
  "language_info": {
   "codemirror_mode": {
    "name": "ipython",
    "version": 3
   },
   "file_extension": ".py",
   "mimetype": "text/x-python",
   "name": "python",
   "nbconvert_exporter": "python",
   "pygments_lexer": "ipython3",
   "version": "3.11.9"
  }
 },
 "nbformat": 4,
 "nbformat_minor": 5
}
