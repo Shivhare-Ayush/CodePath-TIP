{
 "cells": [
  {
   "cell_type": "code",
   "execution_count": null,
   "id": "ce31794a",
   "metadata": {},
   "outputs": [],
   "source": [
    "#we stopped on problem 3 "
   ]
  }
 ],
 "metadata": {
  "language_info": {
   "name": "python"
  }
 },
 "nbformat": 4,
 "nbformat_minor": 5
}
