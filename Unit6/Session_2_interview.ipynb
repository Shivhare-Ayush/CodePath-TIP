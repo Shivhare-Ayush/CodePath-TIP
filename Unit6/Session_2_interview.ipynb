{
 "cells": [
  {
   "cell_type": "code",
   "execution_count": null,
   "id": "266c09e8",
   "metadata": {},
   "outputs": [
    {
     "data": {
      "text/plain": [
       "'\\ninput: String \\noutput: index for start or -1\\nPointer (points to first char in our substring)\\n'"
      ]
     },
     "execution_count": 2,
     "metadata": {},
     "output_type": "execute_result"
    }
   ],
   "source": [
    "'''\n",
    "input: String \n",
    "output: index for start or -1\n",
    "Pointer (points to first char in our substring)\n",
    "for each pointer, we will check next char substring while needle substring of same size and pointer substring are still == \n",
    "\n",
    "\n",
    "'''"
   ]
  },
  {
   "cell_type": "markdown",
   "id": "98feb3f2",
   "metadata": {},
   "source": [
    "Input: haystack = \"sadbutsad\", needle = \"sad\"\n",
    "Output: 0\n",
    "Input: haystack = \"leetcode\", needle = \"leeto\"\n",
    "Output: -1"
   ]
  },
  {
   "cell_type": "markdown",
   "id": "a743aa43",
   "metadata": {},
   "source": [
    "## Given two strings needle and haystack, return the index of the first occurrence of needle in haystack, or -1 if needle is not part of haystack.\n"
   ]
  },
  {
   "cell_type": "code",
   "execution_count": 11,
   "id": "1a0acc63",
   "metadata": {},
   "outputs": [],
   "source": [
    "def needle_finder(haystack:str, needle:str):\n",
    "    size = len(needle)\n",
    "    for i in range(len(haystack)):\n",
    "        if haystack[i: i + size] == needle:\n",
    "            return i \n",
    "    return -1"
   ]
  },
  {
   "cell_type": "code",
   "execution_count": 12,
   "id": "984aab18",
   "metadata": {},
   "outputs": [
    {
     "data": {
      "text/plain": [
       "3"
      ]
     },
     "execution_count": 12,
     "metadata": {},
     "output_type": "execute_result"
    }
   ],
   "source": [
    "needle_finder(\"butsad\",\"sad\")"
   ]
  },
  {
   "cell_type": "code",
   "execution_count": null,
   "id": "5f627657",
   "metadata": {},
   "outputs": [],
   "source": []
  },
  {
   "cell_type": "markdown",
   "id": "9507ba62",
   "metadata": {},
   "source": [
    "Problem 1: Next in Queue\n",
    "Each user on a music app should have a queue of songs to play next. Implement the class Queue using a singly linked list. Recall that a queue is a First-In-First-Out (FIfO) data structure where elements are added to the end (the tail) and removed from the front (the head)."
   ]
  },
  {
   "cell_type": "code",
   "execution_count": 20,
   "id": "58f9cd0b",
   "metadata": {},
   "outputs": [],
   "source": [
    "class Node:\n",
    "\tdef __init__(self, value, next=None):\n",
    "\t\tself.value = value\n",
    "\t\tself.next = next\n",
    "\n",
    "# For testing\n",
    "def print_queue(head):\n",
    "    current = head.front\n",
    "    while current:\n",
    "        print(current.value, end=\" -> \" if current.next else \"\")\n",
    "        current = current.next\n",
    "    print()\n",
    "\n",
    "class Queue:\n",
    "    def __init__(self):\n",
    "        self.front = None\n",
    "        self.rear = None\n",
    "    \n",
    "    def is_empty(self):\n",
    "        if self.front == None:\n",
    "             return True\n",
    "        return False \n",
    "    #   ('song', 'artist') -> new Node \n",
    "    def enqueue(self, mytuple):\n",
    "        if self.is_empty():\n",
    "            self.front = Node(mytuple)\n",
    "            self.rear = self.front\n",
    "        else:\n",
    "            self.rear.next = Node(mytuple)\n",
    "            self.rear = self.rear.next\n",
    "        pass\n",
    "    \n",
    "    def dequeue(self):\n",
    "        if self.is_empty():\n",
    "            return None \n",
    "        temp = self.front \n",
    "        self.front = self.front.next \n",
    "        return temp.value\n",
    "    \n",
    "    def peek(self):\n",
    "        if self.is_empty():\n",
    "            return None \n",
    "        return self.front.value"
   ]
  },
  {
   "cell_type": "code",
   "execution_count": 22,
   "id": "d062ba19",
   "metadata": {},
   "outputs": [
    {
     "name": "stdout",
     "output_type": "stream",
     "text": [
      "('Love Song', 'Sara Bareilles') -> ('Ballad of Big Nothing', 'Elliot Smith') -> ('Hug from a Dinosaur', 'Torres')\n",
      "Peek:  ('Love Song', 'Sara Bareilles')\n",
      "Dequeue:  ('Love Song', 'Sara Bareilles')\n",
      "Dequeue:  ('Ballad of Big Nothing', 'Elliot Smith')\n",
      "Is Empty:  False\n",
      "Dequeue:  ('Hug from a Dinosaur', 'Torres')\n",
      "Is Empty: True\n"
     ]
    }
   ],
   "source": [
    "q = Queue()\n",
    "\n",
    "# Add elements to the queue\n",
    "q.enqueue(('Love Song', 'Sara Bareilles'))\n",
    "q.enqueue(('Ballad of Big Nothing', 'Elliot Smith'))\n",
    "q.enqueue(('Hug from a Dinosaur', 'Torres'))\n",
    "print_queue(q)\n",
    "\n",
    "# View the front element\n",
    "print(\"Peek: \", q.peek()) \n",
    "\n",
    "# Remove elements from the queue\n",
    "print(\"Dequeue: \", q.dequeue()) \n",
    "print(\"Dequeue: \", q.dequeue()) \n",
    "\n",
    "# Check if the queue is empty\n",
    "print(\"Is Empty: \", q.is_empty()) \n",
    "\n",
    "# Remove the last element\n",
    "print(\"Dequeue: \", q.dequeue()) \n",
    "\n",
    "# Check if the queue is empty\n",
    "print(\"Is Empty:\", q.is_empty()) "
   ]
  },
  {
   "cell_type": "code",
   "execution_count": null,
   "id": "c31accac",
   "metadata": {},
   "outputs": [],
   "source": [
    "class Node:\n",
    "\tdef __init__(self, value, next=None):\n",
    "\t\tself.value = value\n",
    "\t\tself.next = next\n",
    "\n",
    "# For testing\n",
    "def print_linked_list(head):\n",
    "    current = head\n",
    "    while current:\n",
    "        print(current.value, end=\" -> \" if current.next else \"\")\n",
    "        current = current.next\n",
    "    print()\n",
    "'''\n",
    "Input: Playlist , a , b, replacement\n",
    "step 1: find the nodes in playlist[a], playlist[b]                                  O(n) cost \n",
    "step 2: disconnect playlist[a]. Now playlist[a] = replacement[head]                 O(1) cost       \n",
    "step 3: reconnect remainder of palylist. Now replacement[tail].next = playlist[b]   O(1) cost + O(m) \n",
    "Total cost: O(n + m)\n",
    "'''\n",
    "def merge_playlists(playlist, replacement, a, b):\n",
    "    curr = playlist \n",
    "    counter = 0\n",
    "    a_node = b_Node = None\n",
    "    while curr:\n",
    "        if counter == a-1:\n",
    "            a_node = curr\n",
    "        if counter == b+1:\n",
    "            b_node = curr\n",
    "        curr = curr.next\n",
    "        counter += 1\n",
    "    #\n",
    "    a_node.next = replacement \n",
    "    curr = replacement\n",
    "    while curr.next:\n",
    "        curr = curr.next \n",
    "    curr.next = b_node\n",
    "    return playlist"
   ]
  },
  {
   "cell_type": "code",
   "execution_count": 24,
   "id": "46444c72",
   "metadata": {},
   "outputs": [
    {
     "name": "stdout",
     "output_type": "stream",
     "text": [
      "('Flea', 'St. Vincent') -> ('Juice', 'Lizzo') -> ('Dreams', 'Solange') -> ('First', 'Gallant') -> ('Empty', 'Kevin Abstract')\n"
     ]
    }
   ],
   "source": [
    "playlist1 = Node(('Flea', 'St. Vincent'),\n",
    "                Node(('Juice', 'Lizzo'), \n",
    "                    Node(('Tenderness', 'Jay Som'),\n",
    "                        Node(('Ego Death', 'The Internet'),\n",
    "                            Node(('Empty', 'Kevin Abstract'))))))\n",
    "\n",
    "playlist2 = Node(('Dreams', 'Solange'), Node(('First', 'Gallant')))\n",
    "\n",
    "print_linked_list(merge_playlists(playlist1, playlist2, 2, 3))"
   ]
  },
  {
   "cell_type": "markdown",
   "id": "bda10656",
   "metadata": {},
   "source": [
    "You are given the head of a singly linked list playlist. The list can be represented as:\n",
    "\n",
    "L0 → L1 → … → Ln - 1 → Ln\n",
    "\n",
    "Shuffle the playlist to have the following form:\n",
    "\n",
    "L0 → Ln → L1 → Ln - 1 → L2 → Ln - 2 → …\n",
    "\n",
    "You may not modify the values in the list's nodes. Only the order of the nodes themselves may be changed. Return the head of the shuffled list.\n",
    "\n",
    "Evaluate the time and space complexity of your solution. Define your variables and provide a rationale for why you believe your solution has the stated time and space complexity.\n"
   ]
  },
  {
   "cell_type": "markdown",
   "id": "8efd98eb",
   "metadata": {},
   "source": [
    "The idea is to use the slow and fast pointer technique to find the middle of the linked list, then reverse the second half of the list, and finally merge the two halves together in the required order.\n",
    "\n"
   ]
  },
  {
   "cell_type": "code",
   "execution_count": 3,
   "id": "c52feac2",
   "metadata": {},
   "outputs": [
    {
     "name": "stdout",
     "output_type": "stream",
     "text": [
      "('Flea', 'St. Vincent') -> ('Empty', 'Kevin Abstract') -> ('Juice', 'Lizzo') -> ('Ego Death', 'The Internet') -> ('Tenderness', 'Jay Som')\n"
     ]
    }
   ],
   "source": [
    "class Node:\n",
    "\tdef __init__(self, value, next=None):\n",
    "\t\tself.value = value\n",
    "\t\tself.next = next\n",
    "\n",
    "# For testing\n",
    "def print_linked_list(head):\n",
    "    current = head\n",
    "    while current:\n",
    "        print(current.value, end=\" -> \" if current.next else \"\")\n",
    "        current = current.next\n",
    "    print()\n",
    "\n",
    "def shuffle_playlist(playlist):\n",
    "    # Find middle using slow/fast pointer\n",
    "    # reverse second half\n",
    "    # merge two halves\n",
    "    if not playlist or not playlist.next:\n",
    "        return playlist\n",
    "    slow, fast = playlist, playlist\n",
    "    while fast and fast.next:\n",
    "        slow = slow.next\n",
    "        fast = fast.next.next\n",
    "    prev, curr = None, slow\n",
    "    while curr:\n",
    "        next_temp = curr.next\n",
    "        curr.next = prev\n",
    "        prev = curr\n",
    "        curr = next_temp\n",
    "    first, second = playlist, prev\n",
    "    while second.next:\n",
    "        temp1, temp2 = first.next, second.next\n",
    "        first.next = second\n",
    "        second.next = temp1\n",
    "        first, second = temp1, temp2\n",
    "    return playlist\n",
    "\n",
    "playlist = Node(('Flea', 'St. Vincent'),\n",
    "                Node(('Juice', 'Lizzo'), \n",
    "                    Node(('Tenderness', 'Jay Som'),\n",
    "                        Node(('Ego Death', 'The Internet'),\n",
    "                            Node(('Empty', 'Kevin Abstract'))))))\n",
    "print_linked_list(shuffle_playlist(playlist))"
   ]
  }
 ],
 "metadata": {
  "kernelspec": {
   "display_name": "Python 3",
   "language": "python",
   "name": "python3"
  },
  "language_info": {
   "codemirror_mode": {
    "name": "ipython",
    "version": 3
   },
   "file_extension": ".py",
   "mimetype": "text/x-python",
   "name": "python",
   "nbconvert_exporter": "python",
   "pygments_lexer": "ipython3",
   "version": "3.11.9"
  }
 },
 "nbformat": 4,
 "nbformat_minor": 5
}
